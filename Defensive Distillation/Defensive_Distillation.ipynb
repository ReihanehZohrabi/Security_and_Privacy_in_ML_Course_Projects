{
  "cells": [
    {
      "cell_type": "markdown",
      "metadata": {
        "id": "CgdNuxMaf_p2"
      },
      "source": [
        "# SPML HW3 - Defensive Distillation (30)\n"
      ]
    },
    {
      "cell_type": "markdown",
      "metadata": {
        "id": "xpKO-cm_Z54s"
      },
      "source": [
        "In this notebook, you are going to attack a defensively distilled model\n",
        "\n",
        "Please write your code in specified sections and do not change anything else. If you have a question regarding this homework, please ask it on the course page.\n",
        "\n",
        "Also, it is recommended to use google colab to do this homework. You can connect to your drive using the code below:"
      ]
    },
    {
      "cell_type": "markdown",
      "metadata": {
        "id": "NJb0CvxpL1Q2"
      },
      "source": [
        "## Initializations"
      ]
    },
    {
      "cell_type": "code",
      "execution_count": 1,
      "metadata": {
        "id": "jNyN53BvAoD1"
      },
      "outputs": [],
      "source": [
        "import torch\n",
        "import torchvision\n",
        "import torch.nn as nn\n",
        "import torch.nn.functional as F\n",
        "import torchvision.transforms as transforms\n",
        "from torchvision.models import resnet18\n",
        "import torch.optim as optim"
      ]
    },
    {
      "cell_type": "markdown",
      "metadata": {
        "id": "KncQ7q9NL32n"
      },
      "source": [
        "## Defining Teacher and Student Classes"
      ]
    },
    {
      "cell_type": "code",
      "execution_count": 2,
      "metadata": {
        "id": "tFjhNHr9BELF"
      },
      "outputs": [],
      "source": [
        "class Teacher(nn.Module):\n",
        "  def __init__(self, num_cls, T=1):\n",
        "    super().__init__()\n",
        "    self.conv = nn.Sequential(\n",
        "        *list(resnet18(pretrained=False).children())[:-2])\n",
        "    \n",
        "    self.fc = nn.Linear(512, num_cls)\n",
        "    self.temp = T\n",
        "  \n",
        "  def forward(self, x, T=None):\n",
        "    if T is None:\n",
        "      T = self.temp\n",
        "    x = self.conv(x)\n",
        "    x = torch.flatten(x, start_dim=1)\n",
        "    logits = self.fc(x)\n",
        "    output = torch.softmax(logits / T, dim=1)\n",
        "\n",
        "    return logits, output\n",
        "\n",
        "class Student(nn.Module):\n",
        "  def __init__(self, num_cls, T=1):\n",
        "    super().__init__()\n",
        "    self.conv1 = nn.Conv2d(3, 6, 5)\n",
        "    self.pool = nn.MaxPool2d(2, 2)\n",
        "    self.conv2 = nn.Conv2d(6, 16, 5)\n",
        "    self.fc1 = nn.Linear(16 * 5 * 5, 120)\n",
        "    self.fc2 = nn.Linear(120, 84)\n",
        "    self.fc3 = nn.Linear(84, num_cls)\n",
        "    self.temp = T\n",
        "\n",
        "  def forward(self, x, T=None):\n",
        "    if T is None:\n",
        "      T = self.temp\n",
        "    x = self.pool(F.relu(self.conv1(x)))\n",
        "    x = self.pool(F.relu(self.conv2(x)))\n",
        "    x = torch.flatten(x, 1)\n",
        "    x = F.relu(self.fc1(x))\n",
        "    x = F.relu(self.fc2(x))\n",
        "    logits = self.fc3(x)\n",
        "\n",
        "    output = torch.softmax(logits / T, dim=1)\n",
        "    return logits, output"
      ]
    },
    {
      "cell_type": "code",
      "execution_count": 3,
      "metadata": {
        "colab": {
          "base_uri": "https://localhost:8080/"
        },
        "id": "vADZfUlJdbWZ",
        "outputId": "1e2e119e-cc2f-494a-a6ac-68886531a028"
      },
      "outputs": [
        {
          "name": "stdout",
          "output_type": "stream",
          "text": [
            "Downloading https://www.cs.toronto.edu/~kriz/cifar-10-python.tar.gz to ./data/cifar-10-python.tar.gz\n"
          ]
        },
        {
          "name": "stderr",
          "output_type": "stream",
          "text": [
            "100%|██████████| 170498071/170498071 [00:14<00:00, 12114555.64it/s]\n"
          ]
        },
        {
          "name": "stdout",
          "output_type": "stream",
          "text": [
            "Extracting ./data/cifar-10-python.tar.gz to ./data\n",
            "Files already downloaded and verified\n"
          ]
        }
      ],
      "source": [
        "transform = transforms.Compose(\n",
        "    [transforms.ToTensor(),\n",
        "     transforms.Normalize((0.5, 0.5, 0.5), (0.5, 0.5, 0.5))])\n",
        "\n",
        "batch_size = 128\n",
        "\n",
        "trainset = torchvision.datasets.CIFAR10(root='./data', train=True,\n",
        "                                        download=True, transform=transform)\n",
        "\n",
        "testset = torchvision.datasets.CIFAR10(root='./data', train=False,\n",
        "                                       download=True, transform=transform)\n",
        "\n",
        "###################### Problem 1 (3 points) ####################################\n",
        "# todo: Define your data loaders for training, testing, and validation         #\n",
        "################################################################################\n",
        "\n",
        "# your code goes here\n",
        "\n",
        "train_size = int(0.8 * len(trainset))\n",
        "valid_size = len(trainset) - train_size\n",
        "trainset, validset = torch.utils.data.random_split(trainset, [train_size, valid_size])\n",
        "\n",
        "trainloader = torch.utils.data.DataLoader(trainset, batch_size=batch_size, shuffle=True)\n",
        "validloader = torch.utils.data.DataLoader(validset, batch_size=batch_size, shuffle=True)\n",
        "testloader = torch.utils.data.DataLoader(testset, batch_size=batch_size, shuffle=False)\n",
        "################################ End ###########################################\n",
        "\n",
        "classes = ('plane', 'car', 'bird', 'cat',\n",
        "           'deer', 'dog', 'frog', 'horse', 'ship', 'truck')\n",
        "\n",
        "device = torch.device('cuda:0' if torch.cuda.is_available() else 'cpu')"
      ]
    },
    {
      "cell_type": "markdown",
      "metadata": {
        "id": "LvTvfZybMBSR"
      },
      "source": [
        "## Training"
      ]
    },
    {
      "cell_type": "markdown",
      "metadata": {
        "id": "BCmosNdHMExH"
      },
      "source": [
        "### Teacher Network Training"
      ]
    },
    {
      "cell_type": "code",
      "execution_count": 4,
      "metadata": {
        "id": "LgTK7EhrIs_r"
      },
      "outputs": [],
      "source": [
        "def standard_train(model, loader, num_epoch, optimizer, criterion, T=None, \n",
        "                   device=device):\n",
        "  ###################### Problem 2 (4 points) ##################################\n",
        "  # todo: Iterate over loader in each epoch                                    #\n",
        "  # todo: Compute the model's output for each batch at the given temperature T #\n",
        "  # todo: Compute the loss function and take a step by the optimizer           #\n",
        "  # todo: Monitor the training procedure                                       #\n",
        "  ##############################################################################\n",
        "\n",
        "  # your code goes here\n",
        "    model.train() \n",
        "    model.to(device)  \n",
        "    \n",
        "    for epoch in range(num_epoch):\n",
        "        running_loss = 0.0\n",
        "        \n",
        "        for inputs, labels in loader:\n",
        "            inputs, labels = inputs.to(device), labels.to(device)\n",
        "            \n",
        "            optimizer.zero_grad()  \n",
        "            \n",
        "            if T is None:\n",
        "                logits, outputs = model(inputs)\n",
        "            else:\n",
        "                logits, outputs = model(inputs, T=T)\n",
        "\n",
        "            loss = criterion(logits, labels)  \n",
        "            loss.backward()  \n",
        "            optimizer.step()  \n",
        "            running_loss += loss.item() * inputs.size(0)\n",
        "        \n",
        "        epoch_loss = running_loss / len(loader.dataset)\n",
        "        print(f\"Epoch {epoch+1}/{num_epoch}, Loss: {epoch_loss:.4f}\")\n",
        "  ##############################################################################"
      ]
    },
    {
      "cell_type": "code",
      "execution_count": 5,
      "metadata": {
        "colab": {
          "base_uri": "https://localhost:8080/"
        },
        "id": "gkIqSmUjLOIJ",
        "outputId": "fecb233b-af47-4c20-da45-8b701af25d9d"
      },
      "outputs": [
        {
          "name": "stderr",
          "output_type": "stream",
          "text": [
            "/usr/local/lib/python3.10/dist-packages/torchvision/models/_utils.py:208: UserWarning: The parameter 'pretrained' is deprecated since 0.13 and may be removed in the future, please use 'weights' instead.\n",
            "  warnings.warn(\n",
            "/usr/local/lib/python3.10/dist-packages/torchvision/models/_utils.py:223: UserWarning: Arguments other than a weight enum or `None` for 'weights' are deprecated since 0.13 and may be removed in the future. The current behavior is equivalent to passing `weights=None`.\n",
            "  warnings.warn(msg)\n"
          ]
        }
      ],
      "source": [
        "T = 100\n",
        "teacher = Teacher(len(classes), T=T).to(device)\n",
        "teacher_optim = optim.Adam(teacher.parameters())\n",
        "teacher_criterion = nn.CrossEntropyLoss()"
      ]
    },
    {
      "cell_type": "code",
      "execution_count": null,
      "metadata": {
        "colab": {
          "base_uri": "https://localhost:8080/"
        },
        "id": "XbSXhhVloGBJ",
        "outputId": "002e91e5-bcb1-4cde-e4ff-d96d3ee16911"
      },
      "outputs": [
        {
          "name": "stdout",
          "output_type": "stream",
          "text": [
            "Epoch 1/15, Loss: 1.3531\n",
            "Epoch 2/15, Loss: 0.9579\n",
            "Epoch 3/15, Loss: 0.7785\n",
            "Epoch 4/15, Loss: 0.6561\n",
            "Epoch 5/15, Loss: 0.5515\n",
            "Epoch 6/15, Loss: 0.4605\n",
            "Epoch 7/15, Loss: 0.3744\n",
            "Epoch 8/15, Loss: 0.3028\n",
            "Epoch 9/15, Loss: 0.2465\n",
            "Epoch 10/15, Loss: 0.1995\n",
            "Epoch 11/15, Loss: 0.1653\n",
            "Epoch 12/15, Loss: 0.1403\n",
            "Epoch 13/15, Loss: 0.1217\n",
            "Epoch 14/15, Loss: 0.1076\n",
            "Epoch 15/15, Loss: 0.0991\n"
          ]
        }
      ],
      "source": [
        "standard_train(model=teacher, \n",
        "            loader=trainloader, \n",
        "            num_epoch=15, \n",
        "            optimizer=teacher_optim, \n",
        "            criterion=teacher_criterion, \n",
        "            T=T, \n",
        "            device=device)"
      ]
    },
    {
      "cell_type": "markdown",
      "metadata": {
        "id": "EA_uJ6kYMKiY"
      },
      "source": [
        "### Student Network Training"
      ]
    },
    {
      "cell_type": "code",
      "execution_count": 6,
      "metadata": {
        "id": "NMU4qFqwJWXO"
      },
      "outputs": [],
      "source": [
        "def distillation(teacher, student, loader, num_epoch, optimizer, criterion, \n",
        "                 T=None, device=device):\n",
        "  ###################### Problem 3 (6 points) ##################################\n",
        "  # todo: Iterate over loader in each epoch                                    #\n",
        "  # todo: Compute MSE loss between student's logit and teacher's logit         #\n",
        "  # todo: Take a step by the optimizer                                         #\n",
        "  # todo: Monitor the training procedure                                       #\n",
        "  ##############################################################################\n",
        "\n",
        "  # your code goes here    \n",
        "    teacher.eval()  \n",
        "    teacher.to(device)  \n",
        "    student.train()  \n",
        "    student.to(device)  \n",
        "    \n",
        "    for epoch in range(num_epoch):\n",
        "        running_loss = 0.0\n",
        "        \n",
        "        for inputs, labels in loader:\n",
        "            inputs, labels = inputs.to(device), labels.to(device)\n",
        "            \n",
        "            optimizer.zero_grad() \n",
        "            teacher_logits, _ = teacher(inputs, T=T) \n",
        "            student_logits, _ = student(inputs)  \n",
        "\n",
        "            loss = criterion(student_logits, teacher_logits)  \n",
        "            loss.backward() \n",
        "            optimizer.step()  \n",
        "            \n",
        "            running_loss += loss.item() * inputs.size(0)\n",
        "        \n",
        "        epoch_loss = running_loss / len(loader.dataset)\n",
        "        print(f\"Epoch {epoch+1}/{num_epoch}, Loss: {epoch_loss:.4f}\")\n",
        "  ################################ End #########################################"
      ]
    },
    {
      "cell_type": "code",
      "execution_count": 10,
      "metadata": {
        "id": "m6EXzkMiKIZL"
      },
      "outputs": [],
      "source": [
        "T = 100\n",
        "student = Student(len(classes), T=T).to(device)\n",
        "student_optim = optim.Adam(student.parameters())\n",
        "std_criterion = nn.MSELoss()"
      ]
    },
    {
      "cell_type": "code",
      "execution_count": null,
      "metadata": {
        "colab": {
          "base_uri": "https://localhost:8080/"
        },
        "id": "Arnzq1nuJ9ro",
        "outputId": "da8859a1-9818-4fa4-e7f1-f5b6c0a34541"
      },
      "outputs": [
        {
          "name": "stdout",
          "output_type": "stream",
          "text": [
            "Epoch 1/100, Loss: 28.4551\n",
            "Epoch 2/100, Loss: 20.7455\n",
            "Epoch 3/100, Loss: 18.3272\n",
            "Epoch 4/100, Loss: 16.9647\n",
            "Epoch 5/100, Loss: 15.7545\n",
            "Epoch 6/100, Loss: 14.8682\n",
            "Epoch 7/100, Loss: 14.0867\n",
            "Epoch 8/100, Loss: 13.4199\n",
            "Epoch 9/100, Loss: 12.8785\n",
            "Epoch 10/100, Loss: 12.4718\n",
            "Epoch 11/100, Loss: 12.0440\n",
            "Epoch 12/100, Loss: 11.6775\n",
            "Epoch 13/100, Loss: 11.4168\n",
            "Epoch 14/100, Loss: 11.1060\n",
            "Epoch 15/100, Loss: 10.9150\n",
            "Epoch 16/100, Loss: 10.6756\n",
            "Epoch 17/100, Loss: 10.5095\n",
            "Epoch 18/100, Loss: 10.3439\n",
            "Epoch 19/100, Loss: 10.1503\n",
            "Epoch 20/100, Loss: 9.9972\n",
            "Epoch 21/100, Loss: 9.8667\n",
            "Epoch 22/100, Loss: 9.7239\n",
            "Epoch 23/100, Loss: 9.6335\n",
            "Epoch 24/100, Loss: 9.4485\n",
            "Epoch 25/100, Loss: 9.3934\n",
            "Epoch 26/100, Loss: 9.2665\n",
            "Epoch 27/100, Loss: 9.2041\n",
            "Epoch 28/100, Loss: 9.1264\n",
            "Epoch 29/100, Loss: 9.0207\n",
            "Epoch 30/100, Loss: 8.9613\n",
            "Epoch 31/100, Loss: 8.8919\n",
            "Epoch 32/100, Loss: 8.8218\n",
            "Epoch 33/100, Loss: 8.7165\n",
            "Epoch 34/100, Loss: 8.7040\n",
            "Epoch 35/100, Loss: 8.6447\n",
            "Epoch 36/100, Loss: 8.5949\n",
            "Epoch 37/100, Loss: 8.5207\n",
            "Epoch 38/100, Loss: 8.4500\n",
            "Epoch 39/100, Loss: 8.4334\n",
            "Epoch 40/100, Loss: 8.3433\n",
            "Epoch 41/100, Loss: 8.3107\n",
            "Epoch 42/100, Loss: 8.2944\n",
            "Epoch 43/100, Loss: 8.2332\n",
            "Epoch 44/100, Loss: 8.1489\n",
            "Epoch 45/100, Loss: 8.1383\n",
            "Epoch 46/100, Loss: 8.1042\n",
            "Epoch 47/100, Loss: 8.0778\n",
            "Epoch 48/100, Loss: 8.0681\n",
            "Epoch 49/100, Loss: 7.9936\n",
            "Epoch 50/100, Loss: 7.9725\n",
            "Epoch 51/100, Loss: 7.9510\n",
            "Epoch 52/100, Loss: 7.8912\n",
            "Epoch 53/100, Loss: 7.8763\n",
            "Epoch 54/100, Loss: 7.8497\n",
            "Epoch 55/100, Loss: 7.8335\n",
            "Epoch 56/100, Loss: 7.8025\n",
            "Epoch 57/100, Loss: 7.7867\n",
            "Epoch 58/100, Loss: 7.7710\n",
            "Epoch 59/100, Loss: 7.7606\n",
            "Epoch 60/100, Loss: 7.6903\n",
            "Epoch 61/100, Loss: 7.6841\n",
            "Epoch 62/100, Loss: 7.6603\n",
            "Epoch 63/100, Loss: 7.6238\n",
            "Epoch 64/100, Loss: 7.6405\n",
            "Epoch 65/100, Loss: 7.5953\n",
            "Epoch 66/100, Loss: 7.5863\n",
            "Epoch 67/100, Loss: 7.5656\n",
            "Epoch 68/100, Loss: 7.5301\n",
            "Epoch 69/100, Loss: 7.5203\n",
            "Epoch 70/100, Loss: 7.5140\n",
            "Epoch 71/100, Loss: 7.4962\n",
            "Epoch 72/100, Loss: 7.4764\n",
            "Epoch 73/100, Loss: 7.5020\n",
            "Epoch 74/100, Loss: 7.4626\n",
            "Epoch 75/100, Loss: 7.4213\n",
            "Epoch 76/100, Loss: 7.4123\n",
            "Epoch 77/100, Loss: 7.3692\n",
            "Epoch 78/100, Loss: 7.4204\n",
            "Epoch 79/100, Loss: 7.3700\n",
            "Epoch 80/100, Loss: 7.3185\n",
            "Epoch 81/100, Loss: 7.3481\n",
            "Epoch 82/100, Loss: 7.3223\n",
            "Epoch 83/100, Loss: 7.3073\n",
            "Epoch 84/100, Loss: 7.3150\n",
            "Epoch 85/100, Loss: 7.2650\n",
            "Epoch 86/100, Loss: 7.3052\n",
            "Epoch 87/100, Loss: 7.2726\n",
            "Epoch 88/100, Loss: 7.2563\n",
            "Epoch 89/100, Loss: 7.2214\n",
            "Epoch 90/100, Loss: 7.2151\n",
            "Epoch 91/100, Loss: 7.2169\n",
            "Epoch 92/100, Loss: 7.2279\n",
            "Epoch 93/100, Loss: 7.2087\n",
            "Epoch 94/100, Loss: 7.1800\n",
            "Epoch 95/100, Loss: 7.1679\n",
            "Epoch 96/100, Loss: 7.1649\n",
            "Epoch 97/100, Loss: 7.1756\n",
            "Epoch 98/100, Loss: 7.1286\n",
            "Epoch 99/100, Loss: 7.1336\n",
            "Epoch 100/100, Loss: 7.1123\n"
          ]
        }
      ],
      "source": [
        "distillation(teacher=teacher, \n",
        "             student=student, \n",
        "             loader=trainloader, \n",
        "             num_epoch=100, \n",
        "             optimizer=student_optim, \n",
        "             criterion=std_criterion, \n",
        "             T=T, \n",
        "             device=device)"
      ]
    },
    {
      "cell_type": "markdown",
      "metadata": {
        "id": "RTgQ3eXTMbV9"
      },
      "source": [
        "### Computing Clean Accuracy"
      ]
    },
    {
      "cell_type": "code",
      "execution_count": null,
      "metadata": {
        "id": "IGwrJ0PFanu2"
      },
      "outputs": [],
      "source": [
        "def standard_test(model, loader, T=1, device=device):\n",
        "    correct = 0\n",
        "    total = 0\n",
        "    ###################### Problem 4 (3 points) ##################################\n",
        "    # todo: Iterate over loader, compute the output and predicted                #\n",
        "    # label, and update \"correct\" and \"total\" counters accordingly.              # \n",
        "    ##############################################################################\n",
        "    \n",
        "    # your code goes here\n",
        "    model.eval()  \n",
        "    model.to(device) \n",
        "    \n",
        "    correct = 0\n",
        "    total = 0\n",
        "    \n",
        "    with torch.no_grad():  \n",
        "        for inputs, labels in loader:\n",
        "            inputs, labels = inputs.to(device), labels.to(device)\n",
        "            \n",
        "            if T is None:\n",
        "                _, outputs = model(inputs)\n",
        "            else:\n",
        "                _, outputs = model(inputs, T=T)\n",
        "            \n",
        "            _, predicted = torch.max(outputs.data, 1)  \n",
        "            total += labels.size(0)  \n",
        "            correct += (predicted == labels).sum().item()  \n",
        "    \n",
        "    ################################ End #########################################\n",
        "    print(f'Clean accuracy of the network on the 10000 test images: {100 * correct // total} %')"
      ]
    },
    {
      "cell_type": "code",
      "execution_count": null,
      "metadata": {
        "colab": {
          "base_uri": "https://localhost:8080/"
        },
        "id": "hIX-0T3LTcqx",
        "outputId": "dedb52c3-2860-442f-c0c2-7abcc8901f03"
      },
      "outputs": [
        {
          "name": "stdout",
          "output_type": "stream",
          "text": [
            "Clean accuracy of the network on the 10000 test images: 66 %\n"
          ]
        }
      ],
      "source": [
        "standard_test(student, testloader)"
      ]
    },
    {
      "cell_type": "markdown",
      "metadata": {
        "id": "oZzMOgrtMhR6"
      },
      "source": [
        "## Attacks"
      ]
    },
    {
      "cell_type": "code",
      "execution_count": 21,
      "metadata": {
        "id": "9-bZdK06nl-7"
      },
      "outputs": [],
      "source": [
        "def fgsm_attack (model, X, y, epsilon, T=1, mode=\"output\"):\n",
        "    delta = torch.zeros_like(X, requires_grad=True).to(device)\n",
        "    ###################### Problem 5 (9 points) ######################\n",
        "    # todo: Perform forward path on model with the image             #\n",
        "    # todo: Compute loss:                                            #\n",
        "    #       - In output mode, set cross entropy as the loss function #\n",
        "    #       - In logit mode, set the logit value of the target label #\n",
        "    #         as the loss function                                   #\n",
        "    # todo: Perform backward path on loss function                   #\n",
        "    # todo: Calculate the gradient w.r.t. the data                   #\n",
        "    # todo: Determine delta based on the gradient and epsilon        #\n",
        "    # Also, if the perturbed image exceeds the valid range, clamp    #\n",
        "    # the delta in order to obtain an image in the valid range       #  \n",
        "    ##################################################################\n",
        "\n",
        "    # your code goes here\n",
        "    X = X.to(device) \n",
        "    y = y.to(device)  \n",
        "    X.requires_grad = True\n",
        "    logits, outputs = model(X, T=T)  \n",
        "\n",
        "    if mode == \"output\":\n",
        "        loss = nn.CrossEntropyLoss()(outputs, y)  \n",
        "    elif mode == \"logit\":\n",
        "        loss = -logits[torch.arange(logits.size(0)), y].mean()\n",
        "\n",
        "    model.zero_grad()  \n",
        "    loss.backward()  \n",
        "    gradient = X.grad.detach().data\n",
        "    delta.data = epsilon * torch.sign(gradient)\n",
        "    delta.data = torch.clamp(delta.data, -epsilon, epsilon)\n",
        "\n",
        "    #perturbed_image = torch.clamp(X + delta, 0, 1)\n",
        "\n",
        "    return X+delta\n",
        "  ########################### End ##################################\n",
        "    "
      ]
    },
    {
      "cell_type": "code",
      "execution_count": 28,
      "metadata": {
        "id": "bW_IPpmWNc8d"
      },
      "outputs": [],
      "source": [
        "def attack_test(model, attack_model, loader, mode=\"output\", epsilon=4/255, T=1, \n",
        "                device=device):\n",
        "    correct = 0\n",
        "    total = 0\n",
        "    ###################### Problem 6 (4.5 points) ################################\n",
        "    # todo: Iterate over loader                                                  #\n",
        "    # todo: Find an adversarial example by FGSM attack on attack_model           #\n",
        "    # todo: Compute the output and predicted label, and updated \"correct\" and    #\n",
        "    # \"total\" counters accordingly.                                              # \n",
        "    ##############################################################################\n",
        "\n",
        "    # your code goes here\n",
        "      \n",
        "    for images, labels in loader:\n",
        "        images = images.to(device)\n",
        "        labels = labels.to(device)\n",
        "        adversarial_images = fgsm_attack(attack_model, images, labels, epsilon, T, mode)\n",
        "        \n",
        "        outputs, _ = model(adversarial_images, T=T)\n",
        "        _, predicted = torch.max(outputs.data, 1)\n",
        "        \n",
        "        total += labels.size(0)\n",
        "        correct += (predicted == labels).sum().item()\n",
        "    \n",
        "    ################################ End #########################################\n",
        "    print(f'Accuracy of the network on the 10000 test images after attacking {mode} layer: {100 * correct // total} %')"
      ]
    },
    {
      "cell_type": "code",
      "execution_count": 29,
      "metadata": {
        "colab": {
          "base_uri": "https://localhost:8080/"
        },
        "id": "GDU26f3APt_w",
        "outputId": "7460c0d9-5fe6-46b7-dbe1-e4311f06a6c1"
      },
      "outputs": [
        {
          "name": "stdout",
          "output_type": "stream",
          "text": [
            "Accuracy of the network on the 10000 test images after attacking output layer: 63 %\n",
            "Accuracy of the network on the 10000 test images after attacking logit layer: 60 %\n",
            "Accuracy of the network on the 10000 test images after attacking output layer: 58 %\n",
            "Accuracy of the network on the 10000 test images after attacking logit layer: 22 %\n"
          ]
        }
      ],
      "source": [
        "###################### Problem 7 (1.5 points) ##################################\n",
        "# todo: Report the accuracy of the student model under attack output and logit #\n",
        "#       layers                                                                 #\n",
        "# todo: Do not forget to set the temperature of the student model to 1         #\n",
        "################################################################################\n",
        "\n",
        "# your code goes here\n",
        "attack_test(model=student,\n",
        "            attack_model=teacher,\n",
        "            loader=testloader,\n",
        "            mode=\"output\",\n",
        "            epsilon=4/255,\n",
        "            T=1,\n",
        "            device=device)\n",
        "\n",
        "attack_test(model=student,\n",
        "            attack_model=teacher,\n",
        "            loader=testloader,\n",
        "            mode=\"logit\",\n",
        "            epsilon=4/255,\n",
        "            T=1,\n",
        "            device=device)\n",
        "\n",
        "attack_test(model=student,\n",
        "            attack_model=student,\n",
        "            loader=testloader,\n",
        "            mode=\"output\",\n",
        "            epsilon=4/255,\n",
        "            T=1,\n",
        "            device=device)\n",
        "\n",
        "attack_test(model=student,\n",
        "            attack_model=student,\n",
        "            loader=testloader,\n",
        "            mode=\"logit\",\n",
        "            epsilon=4/255,\n",
        "            T=1,\n",
        "            device=device)\n",
        "################################ End ###########################################"
      ]
    },
    {
      "cell_type": "markdown",
      "metadata": {
        "id": "jvutK2xKPZKf"
      },
      "source": [
        "همانطور که می‌بینیم دقت حمله زمانی که روی لاجیت‌های شبکه‌ی استیودنت اعمال می‌شود بیشتر است و دقت نهایی کاهش می‌یابد. به صورت کلی هم حمله‌ی FGSM روی این دفاع نتوانسته زیاد موفق عمل کند که این امر مطابق انتظار است."
      ]
    }
  ],
  "metadata": {
    "accelerator": "GPU",
    "colab": {
      "provenance": []
    },
    "gpuClass": "standard",
    "kernelspec": {
      "display_name": "Python 3",
      "language": "python",
      "name": "python3"
    },
    "language_info": {
      "codemirror_mode": {
        "name": "ipython",
        "version": 3
      },
      "file_extension": ".py",
      "mimetype": "text/x-python",
      "name": "python",
      "nbconvert_exporter": "python",
      "pygments_lexer": "ipython3",
      "version": "3.8.5"
    }
  },
  "nbformat": 4,
  "nbformat_minor": 0
}
