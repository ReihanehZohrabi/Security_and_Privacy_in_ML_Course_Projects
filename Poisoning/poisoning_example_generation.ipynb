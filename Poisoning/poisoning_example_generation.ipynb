{
  "cells": [
    {
      "cell_type": "code",
      "execution_count": 1,
      "metadata": {
        "id": "RJuHE19ee_jj"
      },
      "outputs": [],
      "source": [
        "import torch\n",
        "import torch.nn as nn\n",
        "import torch.nn.functional as F\n",
        "import torch.optim as optim\n",
        "import torchvision\n",
        "import torchvision.transforms as transforms\n",
        "from torchvision.models import resnet18, ResNet18_Weights\n",
        "import matplotlib.pyplot as plt\n",
        "import numpy as np\n",
        "from PIL import Image"
      ]
    },
    {
      "cell_type": "code",
      "execution_count": 2,
      "metadata": {
        "id": "9cPZTXMnh1Vo"
      },
      "outputs": [],
      "source": [
        "device = torch.device('cuda:0' if torch.cuda.is_available() else 'cpu')"
      ]
    },
    {
      "cell_type": "code",
      "execution_count": 3,
      "metadata": {
        "colab": {
          "base_uri": "https://localhost:8080/"
        },
        "id": "kv8fjDpOyG6q",
        "outputId": "58a95f94-1211-4562-bd73-9afce80d19fd"
      },
      "outputs": [
        {
          "name": "stdout",
          "output_type": "stream",
          "text": [
            "Downloading https://www.cs.toronto.edu/~kriz/cifar-10-python.tar.gz to ./data/cifar-10-python.tar.gz\n"
          ]
        },
        {
          "name": "stderr",
          "output_type": "stream",
          "text": [
            "100%|██████████| 170498071/170498071 [00:06<00:00, 28023147.57it/s]\n"
          ]
        },
        {
          "name": "stdout",
          "output_type": "stream",
          "text": [
            "Extracting ./data/cifar-10-python.tar.gz to ./data\n",
            "Files already downloaded and verified\n"
          ]
        }
      ],
      "source": [
        "transform = transforms.Compose(\n",
        "    [transforms.ToTensor(),\n",
        "     transforms.Normalize((0.5, 0.5, 0.5), (0.5, 0.5, 0.5))])\n",
        "\n",
        "batch_size = 1024\n",
        "\n",
        "trainset = torchvision.datasets.CIFAR10(root='./data', train=True,\n",
        "                                        download=True, transform=transform)\n",
        "trainloader = torch.utils.data.DataLoader(trainset, batch_size=batch_size,\n",
        "                                          shuffle=True, num_workers=2)\n",
        "\n",
        "testset = torchvision.datasets.CIFAR10(root='./data', train=False,\n",
        "                                       download=True, transform=transform)\n",
        "testloader = torch.utils.data.DataLoader(testset, batch_size=batch_size,\n",
        "                                         shuffle=False, num_workers=2)\n",
        "\n",
        "classes = ('plane', 'car', 'bird', 'cat',\n",
        "           'deer', 'dog', 'frog', 'horse', 'ship', 'truck')"
      ]
    },
    {
      "cell_type": "code",
      "execution_count": 4,
      "metadata": {
        "id": "7mP3FZpqSLba"
      },
      "outputs": [],
      "source": [
        "class Net(nn.Module):\n",
        "    def __init__(self):\n",
        "        super(Net, self).__init__()\n",
        "        self.feature_extractor = nn.Sequential(\n",
        "            *list(resnet18(pretrained=True).children())[:-2])\n",
        "        self.fc = nn.Linear(512, 10)\n",
        "\n",
        "    def get_features(self, x):\n",
        "      return self.feature_extractor(x)\n",
        "\n",
        "    def forward(self, x):\n",
        "        feature = self.get_features(x)\n",
        "        return F.softmax(self.fc(torch.flatten(feature, start_dim=1)))"
      ]
    },
    {
      "cell_type": "code",
      "execution_count": 5,
      "metadata": {
        "colab": {
          "base_uri": "https://localhost:8080/"
        },
        "id": "ArhuwLbOTkdS",
        "outputId": "27e1ffbb-1e6f-4373-ace6-0b0b52795933"
      },
      "outputs": [
        {
          "name": "stderr",
          "output_type": "stream",
          "text": [
            "/usr/local/lib/python3.10/dist-packages/torchvision/models/_utils.py:208: UserWarning: The parameter 'pretrained' is deprecated since 0.13 and may be removed in the future, please use 'weights' instead.\n",
            "  warnings.warn(\n",
            "/usr/local/lib/python3.10/dist-packages/torchvision/models/_utils.py:223: UserWarning: Arguments other than a weight enum or `None` for 'weights' are deprecated since 0.13 and may be removed in the future. The current behavior is equivalent to passing `weights=ResNet18_Weights.IMAGENET1K_V1`. You can also use `weights=ResNet18_Weights.DEFAULT` to get the most up-to-date weights.\n",
            "  warnings.warn(msg)\n",
            "Downloading: \"https://download.pytorch.org/models/resnet18-f37072fd.pth\" to /root/.cache/torch/hub/checkpoints/resnet18-f37072fd.pth\n",
            "100%|██████████| 44.7M/44.7M [00:00<00:00, 272MB/s]\n"
          ]
        }
      ],
      "source": [
        "model = Net().to(device)"
      ]
    },
    {
      "cell_type": "code",
      "execution_count": 6,
      "metadata": {
        "id": "9pnPaN6ukfEm"
      },
      "outputs": [],
      "source": [
        "import torch.optim as optim\n",
        "\n",
        "criterion = nn.CrossEntropyLoss()\n",
        "optimizer = optim.Adam(model.parameters())\n",
        "num_epochs = 10"
      ]
    },
    {
      "cell_type": "code",
      "execution_count": 7,
      "metadata": {
        "colab": {
          "base_uri": "https://localhost:8080/"
        },
        "id": "4nU8BAnHkrpp",
        "outputId": "f2609dbe-12a5-4221-fe28-9b97aab841d2"
      },
      "outputs": [
        {
          "name": "stderr",
          "output_type": "stream",
          "text": [
            "<ipython-input-4-e8b0128bed20>:13: UserWarning: Implicit dimension choice for softmax has been deprecated. Change the call to include dim=X as an argument.\n",
            "  return F.softmax(self.fc(torch.flatten(feature, start_dim=1)))\n"
          ]
        }
      ],
      "source": [
        "model.train()\n",
        "for epoch in range(num_epochs):\n",
        "  #### To Do (4 pts) #####\n",
        "  # Fine-tune model on CIFAR-10 dataset\n",
        "    running_loss = 0.0\n",
        "    for i, data in enumerate(trainloader, 0):\n",
        "        inputs, labels = data[0].to(device), data[1].to(device)\n",
        "\n",
        "        optimizer.zero_grad()\n",
        "\n",
        "        outputs = model(inputs)\n",
        "        loss = criterion(outputs, labels)\n",
        "\n",
        "        loss.backward()\n",
        "        optimizer.step()\n",
        "\n",
        "        running_loss += loss.item()\n",
        "\n",
        "        if i % 2000 == 1999:\n",
        "            print(f'Epoch: {epoch + 1}, Batch: {i + 1}, Loss: {running_loss / 2000:.3f}')\n",
        "            running_loss = 0.0\n",
        "  ################"
      ]
    },
    {
      "cell_type": "code",
      "execution_count": 14,
      "metadata": {
        "id": "mFFCEd3Xfh3u"
      },
      "outputs": [],
      "source": [
        "def poisoning_example_generation(t, b, f, lmda=0.1, max_iters=10, beta=1):\n",
        "    \"\"\"\n",
        "    t: target instance\n",
        "    b: base instance\n",
        "    f: feature extractor\n",
        "    lambda: learning rate\n",
        "    \"\"\"\n",
        "    #### To Do (9 pts) #####\n",
        "    # Create poisoned sample by following the algorithm you've learned in the class\n",
        "    xi = b.clone().detach().requires_grad_(True)\n",
        "\n",
        "    for i in range(max_iters):\n",
        "        features = f(xi)\n",
        "        loss = torch.norm(features - f(t)) ** 2\n",
        "        grad = torch.autograd.grad(loss, xi)[0]\n",
        "        xbi = xi - lmda * grad\n",
        "        xi = (xbi + lmda * beta * b) / (1 + lmda * beta)\n",
        "\n",
        "    return xi\n",
        "  ################\n",
        "\n"
      ]
    },
    {
      "cell_type": "code",
      "execution_count": 9,
      "metadata": {
        "colab": {
          "base_uri": "https://localhost:8080/"
        },
        "id": "pHigAw0FmgeA",
        "outputId": "2573e80b-021c-4ffc-c600-dec182fbb864"
      },
      "outputs": [
        {
          "name": "stdout",
          "output_type": "stream",
          "text": [
            "Mounted at /content/drive\n"
          ]
        }
      ],
      "source": [
        "from google.colab import drive\n",
        "drive.mount('/content/drive')"
      ]
    },
    {
      "cell_type": "code",
      "execution_count": 10,
      "metadata": {
        "colab": {
          "base_uri": "https://localhost:8080/",
          "height": 415
        },
        "id": "WFI5dqG3xtBN",
        "outputId": "addb93e2-a283-443a-b092-b3554828bc59"
      },
      "outputs": [
        {
          "data": {
            "image/png": "[encoded data removed]",
            "text/plain": [
              "<Figure size 640x480 with 2 Axes>"
            ]
          },
          "metadata": {},
          "output_type": "display_data"
        },
        {
          "name": "stdout",
          "output_type": "stream",
          "text": [
            "Predicted label for the frog image: deer\n",
            "Predicted label for the ship image: ship\n",
            "Logit for the predicted class of the frog image: 0.99999976\n",
            "Logit for the predicted class of the ship image: 0.9999995\n"
          ]
        },
        {
          "name": "stderr",
          "output_type": "stream",
          "text": [
            "<ipython-input-4-e8b0128bed20>:13: UserWarning: Implicit dimension choice for softmax has been deprecated. Change the call to include dim=X as an argument.\n",
            "  return F.softmax(self.fc(torch.flatten(feature, start_dim=1)))\n"
          ]
        }
      ],
      "source": [
        "#### To Do (2 pts) #####\n",
        "# Show the frog and ship images\n",
        "# Evaluate model on them (compute predicted label)\n",
        "# Show the frog and ship images\n",
        "frog_image_path = '/content/drive/MyDrive/MSC1401_1/SPML/HW6/frog.jpeg'\n",
        "ship_image_path = '/content/drive/MyDrive/MSC1401_1/SPML/HW6/ship.jpeg'\n",
        "\n",
        "\n",
        "frog_image = Image.open(frog_image_path)\n",
        "ship_image = Image.open(ship_image_path)\n",
        "\n",
        "plt.subplot(1, 2, 1)\n",
        "plt.imshow(frog_image)\n",
        "plt.title('Frog Image')\n",
        "\n",
        "plt.subplot(1, 2, 2)\n",
        "plt.imshow(ship_image)\n",
        "plt.title('Ship Image')\n",
        "\n",
        "plt.show()\n",
        "\n",
        "model.eval()\n",
        "\n",
        "frog_tensor = transform(frog_image).unsqueeze(0).to(device)\n",
        "ship_tensor = transform(ship_image).unsqueeze(0).to(device)\n",
        "\n",
        "\n",
        "with torch.no_grad():\n",
        "    frog_output = model(frog_tensor)\n",
        "    ship_output = model(ship_tensor)\n",
        "\n",
        "frog_logits = frog_output.squeeze().cpu().numpy()\n",
        "ship_logits = ship_output.squeeze().cpu().numpy()\n",
        "\n",
        "_, frog_predicted = torch.max(frog_output.data, 1)\n",
        "_, ship_predicted = torch.max(ship_output.data, 1)\n",
        "\n",
        "frog_label = classes[frog_predicted.item()]\n",
        "ship_label = classes[ship_predicted.item()]\n",
        "\n",
        "print('Predicted label for the frog image:', frog_label)\n",
        "print('Predicted label for the ship image:', ship_label)\n",
        "\n",
        "frog_logit = frog_logits[frog_predicted.item()]\n",
        "ship_logit = ship_logits[ship_predicted.item()]\n",
        "\n",
        "print('Logit for the predicted class of the frog image:', frog_logit)\n",
        "print('Logit for the predicted class of the ship image:', ship_logit)\n",
        "\n",
        "\n",
        "################"
      ]
    },
    {
      "cell_type": "code",
      "execution_count": 15,
      "metadata": {
        "colab": {
          "base_uri": "https://localhost:8080/",
          "height": 415
        },
        "id": "uV4B_Dc_gdcr",
        "outputId": "2334a9f5-c558-496b-9514-f8f0f46ef9a1"
      },
      "outputs": [
        {
          "name": "stderr",
          "output_type": "stream",
          "text": [
            "<ipython-input-4-e8b0128bed20>:13: UserWarning: Implicit dimension choice for softmax has been deprecated. Change the call to include dim=X as an argument.\n",
            "  return F.softmax(self.fc(torch.flatten(feature, start_dim=1)))\n"
          ]
        },
        {
          "data": {
            "image/png": "[encoded data removed]",
            "text/plain": [
              "<Figure size 640x480 with 2 Axes>"
            ]
          },
          "metadata": {},
          "output_type": "display_data"
        },
        {
          "name": "stdout",
          "output_type": "stream",
          "text": [
            "Predicted label for the poisoned frog image: deer\n",
            "Predicted label for the poisoned ship image: ship\n",
            "Logit for the predicted class of the poisoned frog image: 0.99999976\n",
            "Logit for the predicted class of the poisoned ship image: 0.9999995\n"
          ]
        }
      ],
      "source": [
        "#### To Do (2 pts) #####\n",
        "# Create poisoned samples\n",
        "# Evaluate model on them (compute predicted label)\n",
        "\n",
        "mean = [0.5, 0.5, 0.5]\n",
        "std = [0.5, 0.5, 0.5]\n",
        "transform_normalize_inv = torchvision.transforms.Normalize(\n",
        "    mean=[-m / s for m, s in zip(mean, std)], std=[1 / s for s in std]\n",
        ")\n",
        "\n",
        "poisoned_ship = poisoning_example_generation(frog_tensor, ship_tensor, model, lmda=0.1, max_iters=10, beta=1)\n",
        "poisoned_frog = poisoning_example_generation(ship_tensor, frog_tensor, model, lmda=0.1, max_iters=10, beta=1)\n",
        "\n",
        "poisoned_frog_image = transforms.ToPILImage()(transform_normalize_inv(poisoned_frog).squeeze().cpu())\n",
        "poisoned_ship_image = transforms.ToPILImage()(transform_normalize_inv(poisoned_ship).squeeze().cpu())\n",
        "\n",
        "plt.subplot(1, 2, 1)\n",
        "plt.imshow(poisoned_frog_image)\n",
        "plt.title('Poisoned Frog Image')\n",
        "\n",
        "plt.subplot(1, 2, 2)\n",
        "plt.imshow(poisoned_ship_image)\n",
        "plt.title('Poisoned Ship Image')\n",
        "\n",
        "plt.show()\n",
        "\n",
        "with torch.no_grad():\n",
        "    poisoned_frog_output = model(poisoned_frog.to(device))\n",
        "    poisoned_ship_output = model(poisoned_ship.to(device))\n",
        "\n",
        "poisoned_frog_logits = poisoned_frog_output.squeeze().cpu().numpy()\n",
        "poisoned_ship_logits = poisoned_ship_output.squeeze().cpu().numpy()\n",
        "\n",
        "_, poisoned_frog_predicted = torch.max(poisoned_frog_output.data, 1)\n",
        "_, poisoned_ship_predicted = torch.max(poisoned_ship_output.data, 1)\n",
        "\n",
        "poisoned_frog_label = classes[poisoned_frog_predicted.item()]\n",
        "poisoned_ship_label = classes[poisoned_ship_predicted.item()]\n",
        "\n",
        "print('Predicted label for the poisoned frog image:', poisoned_frog_label)\n",
        "print('Predicted label for the poisoned ship image:', poisoned_ship_label)\n",
        "\n",
        "poisoned_frog_logit = poisoned_frog_logits[poisoned_frog_predicted.item()]\n",
        "poisoned_ship_logit = poisoned_ship_logits[poisoned_ship_predicted.item()]\n",
        "\n",
        "print('Logit for the predicted class of the poisoned frog image:', poisoned_frog_logit)\n",
        "print('Logit for the predicted class of the poisoned ship image:', poisoned_ship_logit)\n",
        "\n",
        "\n",
        "################"
      ]
    },
    {
      "cell_type": "code",
      "execution_count": null,
      "metadata": {
        "id": "sjRH6AJOHAEI"
      },
      "outputs": [],
      "source": []
    }
  ],
  "metadata": {
    "accelerator": "GPU",
    "colab": {
      "gpuType": "T4",
      "provenance": []
    },
    "gpuClass": "standard",
    "kernelspec": {
      "display_name": "Python 3",
      "language": "python",
      "name": "python3"
    },
    "language_info": {
      "codemirror_mode": {
        "name": "ipython",
        "version": 3
      },
      "file_extension": ".py",
      "mimetype": "text/x-python",
      "name": "python",
      "nbconvert_exporter": "python",
      "pygments_lexer": "ipython3",
      "version": "3.8.5"
    }
  },
  "nbformat": 4,
  "nbformat_minor": 0
}
